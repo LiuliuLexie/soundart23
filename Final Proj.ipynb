{
 "cells": [
  {
   "cell_type": "markdown",
   "id": "b48e71c4",
   "metadata": {},
   "source": [
    "# Final Project: Sound-Text\n",
    "\n",
    "By. Lexie ZHU\n",
    "\n",
    "\n",
    "# Process:\n",
    "\n",
    "- create the interaction: input a word with your favourite sound\n",
    "- applying the conditions, then I get a list of similar words of the input word\n",
    "    - words1 = pr.search(wordPr): words including the input word pronouciation\n",
    "    - words2 = pr.search(wordPr + \"$\"): words ends with same syllable\n",
    "    - words3 = pr.search(\"^\" + wordPr): words start with same syllable\n",
    "    - words4 = pronouncing.search_stresses(\"0101\"): a pronouncing stress similar condition\n",
    "- use mockup chains to generate the words list with the selected poems of my favourite poet, [Jorge Luis Borges](https://www.poetsofmodernity.xyz/klineasborges.php). \n",
    "- get the result!"
   ]
  },
  {
   "cell_type": "markdown",
   "id": "5e6081cb",
   "metadata": {},
   "source": [
    "# Manually made...Outputs\n",
    "   \n",
    "    I do not touch us\n",
    "    Paolo and tiger a tiger\n",
    "    Nightingale of Judea, mocking, burning, mourning\n",
    "    Those modest divinities touch us, touch us, touch us, touch us, touch us and pass on by\n",
    "    They let the book fall when they see that they are forms in a dream once dreamt in Brittany\n",
    "    Assiduously I plot these lines in light emptiness\n",
    "    The gate to the curved hand. The smooth column to the rose\n",
    "    A book a dream reveals that they \n",
    "    are the ones in book "
   ]
  },
  {
   "cell_type": "markdown",
   "id": "ad69e4ce",
   "metadata": {},
   "source": [
    "# Next Step\n",
    "\n",
    "- figure out the bugs\n",
    "- Adjust the program into a interactive web page - in process"
   ]
  },
  {
   "cell_type": "code",
   "execution_count": 6,
   "id": "2a74a77c",
   "metadata": {},
   "outputs": [
    {
     "name": "stdout",
     "output_type": "stream",
     "text": [
      "Please input a word which have you favourite pronounce!!movie\n"
     ]
    },
    {
     "data": {
      "text/plain": [
       "2"
      ]
     },
     "execution_count": 6,
     "metadata": {},
     "output_type": "execute_result"
    }
   ],
   "source": [
    "# count the pronouncing\n",
    "import pronouncing\n",
    "\n",
    "word = str(input(\"Please input a word which have you favourite pronounce!!\"))\n",
    "\n",
    "pronunciation_list = pronouncing.phones_for_word(word)\n",
    "pronouncing.syllable_count(pronunciation_list[0])\n"
   ]
  },
  {
   "cell_type": "code",
   "execution_count": 7,
   "id": "47189a2f",
   "metadata": {},
   "outputs": [
    {
     "name": "stdout",
     "output_type": "stream",
     "text": [
      "Requirement already satisfied: pronouncing in /Users/zhuliuliu/opt/anaconda3/lib/python3.9/site-packages (0.2.0)\n",
      "Requirement already satisfied: cmudict>=0.4.0 in /Users/zhuliuliu/opt/anaconda3/lib/python3.9/site-packages (from pronouncing) (1.0.13)\n",
      "Requirement already satisfied: importlib-metadata<6.0.0,>=5.1.0 in /Users/zhuliuliu/opt/anaconda3/lib/python3.9/site-packages (from cmudict>=0.4.0->pronouncing) (5.2.0)\n",
      "Requirement already satisfied: importlib-resources<6.0.0,>=5.10.1 in /Users/zhuliuliu/opt/anaconda3/lib/python3.9/site-packages (from cmudict>=0.4.0->pronouncing) (5.12.0)\n",
      "Requirement already satisfied: zipp>=0.5 in /Users/zhuliuliu/opt/anaconda3/lib/python3.9/site-packages (from importlib-metadata<6.0.0,>=5.1.0->cmudict>=0.4.0->pronouncing) (3.8.0)\n"
     ]
    }
   ],
   "source": [
    "import sys\n",
    "!{sys.executable} -m pip install pronouncing"
   ]
  },
  {
   "cell_type": "code",
   "execution_count": 8,
   "id": "09b230ad",
   "metadata": {},
   "outputs": [
    {
     "name": "stdout",
     "output_type": "stream",
     "text": [
      "M UW1 V IY0\n"
     ]
    }
   ],
   "source": [
    "import pronouncing as pr \n",
    "import random\n",
    "\n",
    "wordPr = pr.phones_for_word(word) [0] # output a string\n",
    "print(wordPr)\n",
    "\n",
    "words1 = pr.search(wordPr)\n",
    "words2 = pr.search(wordPr + \"$\")\n",
    "words3 = pr.search(\"^\" + wordPr)\n",
    "\n",
    "# My initial idea was just using similar words that satisfy above conditions; \n",
    "# however, for some words, there are only 2-3 words in the list, thus I add a pronouncing stress similar condition\n",
    "\n",
    "phones_list = pronouncing.phones_for_word(word)\n",
    "prStress = pronouncing.stresses(phones_list[0])\n",
    "words4 = pronouncing.search_stresses(\"0101\")\n",
    "\n",
    "words = [*words1, *words2, *words3, *words4] # words: list\n",
    "#words = [*words1, *words2, *words3]\n",
    "\n",
    "# print(words)"
   ]
  },
  {
   "cell_type": "code",
   "execution_count": 9,
   "id": "52202a86",
   "metadata": {},
   "outputs": [
    {
     "name": "stdout",
     "output_type": "stream",
     "text": [
      "movie ['M', 'UW1', 'V', 'IY0'] 2\n",
      "movie's ['M', 'UW1', 'V', 'IY0', 'Z'] 2\n",
      "movielab ['M', 'UW1', 'V', 'IY0', 'L', 'AE2', 'B'] 3\n",
      "movieline ['M', 'UW1', 'V', 'IY0', 'L', 'AY0', 'N'] 3\n",
      "movies ['M', 'UW1', 'V', 'IY0', 'Z'] 2\n",
      "movietime ['M', 'UW1', 'V', 'IY0', 'T', 'AY2', 'M'] 3\n",
      "movie ['M', 'UW1', 'V', 'IY0'] 2\n",
      "movie ['M', 'UW1', 'V', 'IY0'] 2\n",
      "movie's ['M', 'UW1', 'V', 'IY0', 'Z'] 2\n",
      "movielab ['M', 'UW1', 'V', 'IY0', 'L', 'AE2', 'B'] 3\n",
      "movieline ['M', 'UW1', 'V', 'IY0', 'L', 'AY0', 'N'] 3\n",
      "movies ['M', 'UW1', 'V', 'IY0', 'Z'] 2\n",
      "movietime ['M', 'UW1', 'V', 'IY0', 'T', 'AY2', 'M'] 3\n",
      "champaign-urbana ['CH', 'AE0', 'M', 'P', 'EY1', 'N', 'ER0', 'B', 'AE1', 'N', 'AH0'] 5\n",
      "chlorofluorocarbons ['K', 'L', 'AO1', 'R', 'OW0', 'F', 'L', 'AO1', 'R', 'OW0', 'K', 'AA1', 'R', 'B', 'AA0', 'N', 'Z'] 6\n",
      "coagulation ['K', 'OW0', 'AE1', 'G', 'Y', 'AH0', 'L', 'EY1', 'SH', 'AH0', 'N'] 5\n",
      "computer-generated ['K', 'AH0', 'M', 'P', 'Y', 'UW1', 'T', 'ER0', 'JH', 'EH1', 'N', 'ER0', 'EY2', 'T', 'AH0', 'D'] 7\n",
      "eosinophilia ['IY2', 'AH0', 'S', 'IH1', 'N', 'AH0', 'F', 'IH1', 'L', 'Y', 'AH0'] 6\n",
      "eosinophilic ['IY2', 'AH0', 'S', 'IH1', 'N', 'AH0', 'F', 'IH1', 'L', 'IH0', 'K'] 6\n",
      "evacuation ['IH0', 'V', 'AE2', 'K', 'Y', 'AH0', 'W', 'EY1', 'SH', 'AH0', 'N'] 5\n",
      "evacuations ['IH0', 'V', 'AE2', 'K', 'Y', 'AH0', 'W', 'EY1', 'SH', 'AH0', 'N', 'Z'] 5\n",
      "exclamation-point ['EH2', 'K', 'S', 'K', 'L', 'AH0', 'M', 'EY1', 'SH', 'AH0', 'N', 'P', 'OY1', 'N', 'T'] 5\n",
      "garrido-luna ['G', 'AA0', 'R', 'IY1', 'D', 'OW0', 'L', 'UW1', 'N', 'AH0'] 5\n",
      "intergenerational ['IH2', 'N', 'T', 'ER0', 'JH', 'EH1', 'N', 'ER0', 'EY1', 'SH', 'AH0', 'N', 'AH0', 'L'] 7\n",
      "japanimation ['JH', 'AH0', 'P', 'AE1', 'N', 'IH0', 'M', 'EY1', 'SH', 'AH0', 'N'] 5\n",
      "kamehameha ['K', 'AH0', 'M', 'EY1', 'AH0', 'M', 'EY1', 'AH0'] 5\n",
      "kamehameha's ['K', 'AH0', 'M', 'EY1', 'AH0', 'M', 'EY1', 'AH0', 'Z'] 5\n",
      "laryngoscopic ['L', 'AA0', 'R', 'IH1', 'N', 'G', 'AH0', 'S', 'K', 'AA1', 'P', 'IH0', 'K'] 5\n",
      "laryngoscopic ['L', 'AA0', 'R', 'IH1', 'N', 'G', 'AH0', 'S', 'K', 'AA1', 'P', 'IH0', 'K'] 5\n",
      "laryngoscopical ['L', 'AA0', 'R', 'IH1', 'N', 'G', 'AH0', 'S', 'K', 'AA1', 'P', 'IH2', 'K', 'AH0', 'L'] 6\n",
      "laryngoscopical ['L', 'AA0', 'R', 'IH1', 'N', 'G', 'AH0', 'S', 'K', 'AA1', 'P', 'IH2', 'K', 'AH0', 'L'] 6\n",
      "laryngoscopicaly ['L', 'AA0', 'R', 'IH1', 'N', 'G', 'AH0', 'S', 'K', 'AA1', 'P', 'IH2', 'K', 'AH0', 'L', 'IY2'] 7\n",
      "laryngoscopicaly ['L', 'AA0', 'R', 'IH1', 'N', 'G', 'AH0', 'S', 'K', 'AA1', 'P', 'IH2', 'K', 'AH0', 'L', 'IY2'] 7\n",
      "miscalculation ['M', 'IH0', 'S', 'K', 'AE1', 'L', 'K', 'Y', 'AH0', 'L', 'EY1', 'SH', 'AH0', 'N'] 5\n",
      "miscalculations ['M', 'IH0', 'S', 'K', 'AE1', 'L', 'K', 'Y', 'AH0', 'L', 'EY1', 'SH', 'AH0', 'N', 'Z'] 5\n",
      "moholy-nagy ['M', 'OW0', 'HH', 'OW1', 'L', 'IY0', 'N', 'EY1', 'G', 'IY0'] 5\n",
      "momigliano ['M', 'OW0', 'M', 'IH1', 'G', 'L', 'IY0', 'AA1', 'N', 'OW0'] 5\n",
      "overwhelmability ['OW2', 'V', 'ER0', 'W', 'EH1', 'L', 'M', 'AH0', 'B', 'IH1', 'L', 'AH0', 'T', 'IY0'] 7\n",
      "regeneration ['R', 'IY0', 'JH', 'EH1', 'N', 'ER0', 'EY1', 'SH', 'AH0', 'N'] 5\n",
      "revaluation ['R', 'IY0', 'V', 'AE1', 'L', 'Y', 'UW0', 'EY1', 'SH', 'AH0', 'N'] 5\n",
      "ring-around-the-rosy ['R', 'IH1', 'NG', 'ER0', 'AW1', 'N', 'DH', 'ER0', 'OW1', 'Z', 'IY0'] 6\n",
      "rio-de-janeiro ['R', 'IY1', 'OW0', 'D', 'IY1', 'JH', 'AH0', 'N', 'EH1', 'R', 'OW2'] 6\n",
      "yabbadabbadoo ['Y', 'AE1', 'B', 'AH0', 'D', 'AE1', 'B', 'AH0', 'D', 'UW1'] 5\n",
      "ylang-ylang ['Y', 'AH0', 'L', 'AE1', 'NG', 'Y', 'AH0', 'L', 'AE1', 'NG'] 4\n"
     ]
    }
   ],
   "source": [
    "# count the syllable of the words with similar pronouncing\n",
    "all_phones = []\n",
    "for item in words:\n",
    "    phone_list = pr.phones_for_word(item)\n",
    "    phones = phone_list[0]\n",
    "    print(item, phones.split(), pronouncing.syllable_count(phone_list[0]))\n",
    "    all_phones.extend(phones.split())"
   ]
  },
  {
   "cell_type": "code",
   "execution_count": 10,
   "id": "59fd9ccd",
   "metadata": {},
   "outputs": [
    {
     "name": "stdout",
     "output_type": "stream",
     "text": [
      "movie movie's movielab movieline movies movietime movie movie movie's movielab movieline movies movietime champaign-urbana chlorofluorocarbons coagulation computer-generated eosinophilia eosinophilic evacuation evacuations exclamation-point garrido-luna intergenerational japanimation kamehameha kamehameha's laryngoscopic laryngoscopic laryngoscopical laryngoscopical laryngoscopicaly laryngoscopicaly miscalculation miscalculations moholy-nagy momigliano overwhelmability regeneration revaluation ring-around-the-rosy rio-de-janeiro yabbadabbadoo ylang-ylang\n"
     ]
    }
   ],
   "source": [
    "text_a = open(\"Jorge Luis Borges: Selected Poems.txt\").read()\n",
    "text_b = ' '.join(words)\n",
    "\n",
    "print(text_b)\n"
   ]
  },
  {
   "cell_type": "code",
   "execution_count": 11,
   "id": "d2e19208",
   "metadata": {},
   "outputs": [
    {
     "name": "stdout",
     "output_type": "stream",
     "text": [
      "Requirement already satisfied: markovify in /Users/zhuliuliu/opt/anaconda3/lib/python3.9/site-packages (0.9.4)\r\n",
      "Requirement already satisfied: unidecode in /Users/zhuliuliu/opt/anaconda3/lib/python3.9/site-packages (from markovify) (1.2.0)\r\n"
     ]
    }
   ],
   "source": [
    "import sys\n",
    "!{sys.executable} -m pip install markovify"
   ]
  },
  {
   "cell_type": "code",
   "execution_count": 12,
   "id": "a22759eb",
   "metadata": {},
   "outputs": [],
   "source": [
    "import markovify\n",
    "generator_a = markovify.Text(text_a, well_formed=False, state_size=3)\n",
    "generator_b = markovify.Text(text_b, well_formed=False, state_size=3) \n",
    "combo = markovify.combine([generator_a, generator_b], [0.1, 0.9])"
   ]
  },
  {
   "cell_type": "code",
   "execution_count": 13,
   "id": "0fd4db9b",
   "metadata": {},
   "outputs": [
    {
     "name": "stdout",
     "output_type": "stream",
     "text": [
      "None\n"
     ]
    }
   ],
   "source": [
    "print(combo.make_sentence())\n",
    "# lines = random.choice(combo.make_sentence())\n",
    "# print(type(lines))"
   ]
  },
  {
   "cell_type": "code",
   "execution_count": 62,
   "id": "907dfa9f",
   "metadata": {},
   "outputs": [
    {
     "name": "stdout",
     "output_type": "stream",
     "text": [
      "None\n",
      "None\n",
      "The Sum The silent friendliness of the moon The first Adam saw.\n",
      "None\n",
      "None\n",
      "None\n",
      "None\n",
      "None\n"
     ]
    }
   ],
   "source": [
    "for i in range(8):\n",
    "    print(combo.make_sentence())\n",
    "# print(lines)"
   ]
  },
  {
   "cell_type": "code",
   "execution_count": 61,
   "id": "25170841",
   "metadata": {},
   "outputs": [
    {
     "data": {
      "text/plain": [
       "5"
      ]
     },
     "execution_count": 61,
     "metadata": {},
     "output_type": "execute_result"
    }
   ],
   "source": [
    "# sentences syllables count\n",
    "text = ''\n",
    "phones = [pronouncing.phones_for_word(p)[0] for p in text.split()]\n",
    "sum([pronouncing.syllable_count(p) for p in phones])"
   ]
  }
 ],
 "metadata": {
  "kernelspec": {
   "display_name": "Python 3 (ipykernel)",
   "language": "python",
   "name": "python3"
  },
  "language_info": {
   "codemirror_mode": {
    "name": "ipython",
    "version": 3
   },
   "file_extension": ".py",
   "mimetype": "text/x-python",
   "name": "python",
   "nbconvert_exporter": "python",
   "pygments_lexer": "ipython3",
   "version": "3.9.13"
  }
 },
 "nbformat": 4,
 "nbformat_minor": 5
}
